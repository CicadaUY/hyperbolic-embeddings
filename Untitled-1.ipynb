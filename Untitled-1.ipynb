{
 "cells": [
  {
   "cell_type": "code",
   "execution_count": 2,
   "id": "733c20ce",
   "metadata": {},
   "outputs": [
    {
     "name": "stdout",
     "output_type": "stream",
     "text": [
      "[(0, 1), (0, 2), (1, 3), (1, 4), (2, 5), (2, 6), (3, 7), (3, 8), (4, 9), (4, 10), (5, 11), (5, 12), (6, 13), (6, 14), (7, 15), (7, 16), (8, 17), (8, 18), (9, 19), (9, 20), (10, 21), (10, 22), (11, 23), (11, 24), (12, 25), (12, 26), (13, 27), (13, 28), (14, 29), (14, 30)]\n"
     ]
    }
   ],
   "source": [
    "import networkx as nx\n",
    "import numpy as np\n",
    "import random\n",
    "\n",
    "# random.seed(42)\n",
    "# np.random.seed(42)\n",
    "G = nx.balanced_tree(r=2, h=4)\n",
    "\n",
    "print(G.edges())\n"
   ]
  },
  {
   "cell_type": "code",
   "execution_count": 3,
   "id": "3b33fce1",
   "metadata": {},
   "outputs": [
    {
     "name": "stdout",
     "output_type": "stream",
     "text": [
      "[(0, 1), (0, 2), (1, 3), (1, 4), (2, 5), (2, 6), (3, 7), (3, 8), (4, 9), (4, 10), (5, 11), (5, 12), (6, 13), (6, 14), (7, 15), (7, 16), (8, 17), (8, 18), (9, 19), (9, 20), (10, 21), (10, 22), (11, 23), (11, 24), (12, 25), (12, 26), (13, 27), (13, 28), (14, 29), (14, 30)]\n"
     ]
    }
   ],
   "source": [
    "# random.seed(42)\n",
    "# np.random.seed(42)\n",
    "G = nx.balanced_tree(r=2, h=4)\n",
    "\n",
    "print(G.edges())"
   ]
  },
  {
   "cell_type": "code",
   "execution_count": null,
   "id": "01002857",
   "metadata": {},
   "outputs": [
    {
     "name": "stdout",
     "output_type": "stream",
     "text": [
      "[(0, 1), (0, 2), (1, 3), (1, 4), (2, 5), (2, 6), (3, 7), (3, 8), (4, 9), (4, 10), (5, 11), (5, 12), (6, 13), (6, 14), (7, 15), (7, 16), (8, 17), (8, 18), (9, 19), (9, 20), (10, 21), (10, 22), (11, 23), (11, 24), (12, 25), (12, 26), (13, 27), (13, 28), (14, 29), (14, 30)]\n",
      "tensor([[ 0,  0,  1,  1,  2,  2,  3,  3,  4,  4,  5,  5,  6,  6,  7,  7,  8,  8,\n",
      "          9,  9, 10, 10, 11, 11, 12, 12, 13, 13, 14, 14],\n",
      "        [ 1,  2,  3,  4,  5,  6,  7,  8,  9, 10, 11, 12, 13, 14, 15, 16, 17, 18,\n",
      "         19, 20, 21, 22, 23, 24, 25, 26, 27, 28, 29, 30]])\n",
      "tensor([[26,  9,  9, 24, 20, 11, 26,  0,  5,  6, 15,  9, 15, 28,  0, 12, 27, 22,\n",
      "          7, 28, 12, 21, 22, 23, 13, 11,  0,  1,  3, 14],\n",
      "        [24, 21,  4,  0, 13,  0, 13, 11,  6, 15, 23, 25,  7, 17,  7, 13, 14, 18,\n",
      "          4,  9, 22, 15, 14, 17, 24,  2, 26, 11,  6, 20]])\n",
      "[(26, 24), (9, 21), (9, 4), (24, 0), (20, 13), (11, 0), (26, 13), (0, 11), (5, 6), (6, 15), (15, 23), (9, 25), (15, 7), (28, 17), (0, 7), (12, 13), (27, 14), (22, 18), (7, 4), (28, 9), (12, 22), (21, 15), (22, 14), (23, 17), (13, 24), (11, 2), (0, 26), (1, 11), (3, 6), (14, 20)]\n"
     ]
    }
   ],
   "source": [
    "from torch_geometric.utils import negative_sampling\n",
    "import torch\n",
    "\n",
    "# Convert EdgeView to a list of edge tuples\n",
    "pos_edge_list = list(G.edges())\n",
    "print(pos_edge_list)\n",
    "\n",
    "# Convert to tensor of shape [2, num_edges]\n",
    "pos_edge_index = torch.LongTensor(pos_edge_list).t()\n",
    "print(pos_edge_index)\n",
    "\n",
    "neg_edge_index = negative_sampling(pos_edge_index, num_nodes=G.number_of_nodes())\n",
    "print(neg_edge_index)\n",
    "\n",
    "neg_edge_list = list(zip(neg_edge_index[0].tolist(), neg_edge_index[1].tolist()))\n",
    "print(neg_edge_list)\n"
   ]
  },
  {
   "cell_type": "code",
   "execution_count": 18,
   "id": "4c59a8e0",
   "metadata": {},
   "outputs": [
    {
     "ename": "ModuleNotFoundError",
     "evalue": "No module named 'models'",
     "output_type": "error",
     "traceback": [
      "\u001b[0;31m---------------------------------------------------------------------------\u001b[0m",
      "\u001b[0;31mModuleNotFoundError\u001b[0m                       Traceback (most recent call last)",
      "Cell \u001b[0;32mIn[18], line 1\u001b[0m\n\u001b[0;32m----> 1\u001b[0m \u001b[38;5;28;01mfrom\u001b[39;00m\u001b[38;5;250m \u001b[39m\u001b[38;5;21;01mmodels\u001b[39;00m\u001b[38;5;21;01m.\u001b[39;00m\u001b[38;5;21;01mhydra\u001b[39;00m\u001b[38;5;21;01m.\u001b[39;00m\u001b[38;5;21;01mhydra\u001b[39;00m\u001b[38;5;250m \u001b[39m\u001b[38;5;28;01mimport\u001b[39;00m hydra_plus\n\u001b[1;32m      3\u001b[0m D \u001b[38;5;241m=\u001b[39m nx\u001b[38;5;241m.\u001b[39mto_scipy_sparse_array(G)\n\u001b[1;32m      5\u001b[0m embeddings \u001b[38;5;241m=\u001b[39m hydra_plus(D)\n",
      "\u001b[0;31mModuleNotFoundError\u001b[0m: No module named 'models'"
     ]
    }
   ],
   "source": [
    "from models.hydra.hydra import hydra_plus\n",
    "\n",
    "D = nx.to_scipy_sparse_array(G)\n",
    "\n",
    "embeddings = hydra_plus(D)\n",
    "print(embeddings)\n"
   ]
  }
 ],
 "metadata": {
  "kernelspec": {
   "display_name": "venv",
   "language": "python",
   "name": "python3"
  },
  "language_info": {
   "codemirror_mode": {
    "name": "ipython",
    "version": 3
   },
   "file_extension": ".py",
   "mimetype": "text/x-python",
   "name": "python",
   "nbconvert_exporter": "python",
   "pygments_lexer": "ipython3",
   "version": "3.10.12"
  }
 },
 "nbformat": 4,
 "nbformat_minor": 5
}
